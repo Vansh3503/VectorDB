{
 "cells": [
  {
   "cell_type": "code",
   "execution_count": 2,
   "metadata": {},
   "outputs": [],
   "source": [
    "# !/wget -q https://www.dropbox.com/s/vs6ocyvpzzncvwh/new_articles.zip"
   ]
  },
  {
   "cell_type": "code",
   "execution_count": 3,
   "metadata": {},
   "outputs": [],
   "source": [
    "# !unzip -q new_articles.zip -d new_articles"
   ]
  },
  {
   "cell_type": "code",
   "execution_count": 4,
   "metadata": {},
   "outputs": [],
   "source": [
    "import os\n",
    "os.environ['OPENAI_API_KEY']=''\n",
    "\n"
   ]
  },
  {
   "cell_type": "code",
   "execution_count": 5,
   "metadata": {},
   "outputs": [],
   "source": [
    "from langchain.vectorstores import  Chroma\n",
    "from langchain.embeddings import OpenAIEmbeddings\n",
    "from langchain.llms import OpenAI\n",
    "from langchain.document_loaders import DirectoryLoader\n",
    "from langchain.document_loaders import TextLoader"
   ]
  },
  {
   "cell_type": "code",
   "execution_count": 6,
   "metadata": {},
   "outputs": [],
   "source": [
    "loader=DirectoryLoader('new_articles',glob='./*.txt',loader_cls=TextLoader)"
   ]
  },
  {
   "cell_type": "code",
   "execution_count": 7,
   "metadata": {},
   "outputs": [],
   "source": [
    "document=loader.load()"
   ]
  },
  {
   "cell_type": "code",
   "execution_count": 8,
   "metadata": {},
   "outputs": [
    {
     "data": {
      "text/plain": [
       "'Welcome to The Interchange! If you received this in your inbox, thank you for signing up and your vote of confidence. If you’re reading this as a post on our site, sign up here so you can receive it directly in the future. Every week, we’ll take a look at the hottest fintech news of the previous week. This will include everything from funding rounds to trends to an analysis of a particular space to hot takes on a particular company or phenomenon. There’s a lot of fintech news out there and it’s our job to stay on top of it — and make sense of it — so you can stay in the know. — Mary Ann and Christine\\n\\nBusy, busy, busy\\n\\nIt was a busy week in startup and venture lands, and the fintech space was no exception.\\n\\nIn the venture world, I reported on Peter Ackerson’s departure from Fin Capital earlier this year and the fact that he has since started a new venture firm called Audere Capital. The circumstances around his departure remain fuzzy, but one source speculated that tension arose between Ackerson and Fin founding partner Logan Allin over some of the goings-on at alternative financing startup Pipe last year. More details here.\\n\\nWe also wrote about Tellus, a startup that raised $16 million in an Andreessen Horowitz–led seed round of funding last year that is now being scrutinized by the U.S. government. When I interviewed the company’s co-founder, Rocky Lee, last year, I admit I was a little bit skeptical of any company that would bet on people agreeing to high-interest mortgage rates to upgrade their homes (think 9%!) and using customer savings deposits to fund such loans. When I asked Lee if this was risky, he admitted it was but insisted that Tellus utilized “very strict underwriting criteria” and had not yet seen any defaults “because the majority of its borrowers go on to soon refinance their loans at more favorable terms.” Well, last week U.S. Senator Sherrod Brown, chairman of the U.S. Senate Committee on Banking, Housing, and Urban Affairs, wrote a letter to FDIC chairman Martin Gruenberg expressing concerns about Tellus’s claims. In that letter, Brown pressed the FDIC to review Tellus’s business practices “to ensure that customers are protected from financial fraud and abuse.” In a twist, I discovered that Lee was married to a16z general partner Connie Chan (not sure if he still is). Neither he nor the venture firm commented on the senator’s concerns but Tellus CEO/CTO Jeromee Johnson did provide me with a statement via email. Read more here.\\n\\nInfrastructure continues to be resilient, even in a downturn. This week alone, I wrote about two payments infrastructure companies making moves, and my colleague Ingrid Lunden wrote about Stripe’s latest customer win. For starters, I covered Finix officially becoming a payments processor — a natural evolution really for a company that has slowly been expanding its offerings. In case you forgot, Finix is a startup that Sequoia backtracked on investing in after Stripe (an existing portfolio company) expressed concerns about being too competitive. (Finix got to keep its $21 million, though!) Now that it directly connects to all major U.S. card networks — American Express, Discover, Mastercard and Visa — and no longer relies on a third-party processor, Finix says it’s able to offer businesses “instant onboarding, improved economics and opportunities for lowering interchange fees.” I talked with CEO and co-founder Richie Serna all about it, and why he thinks what Finix has built is different from what legacy players and Stripe have on the market. I also wrote about Liquido, a Mountain View, California–based startup aiming to be the “Stripe of Latin America,” and more. Index Ventures’ Mark Fiorentino led two funding rounds totaling $26 million into the company in 2021. Interestingly, prior to joining Index, Fiorentino helped build and lead business strategy and finance at Stripe from 2015 to 2019. And Ingrid wrote about Stripe landing Uber as a customer, which was a bit unexpected considering that rival Lyft has been a longtime marquee customer of the company.\\n\\nAnd, last but not least, corporate card and spend management startup Brex announced last week a global expansion of its Empower product into new markets so that companies that are its customers now “can spend globally and operate locally” in countries such as Brazil, Canada, Israel, Japan, Mexico, Singapore, South Africa, and the Philippines, as well as in 36 European countries. In an interview with TechCrunch, Brex co-founder and co-CEO Henrique Dubugras said that the company believes the move “will really open up TAM” for Brex since so many existing and prospective U.S. clients “have some sort of global operations.”\\n\\n“One of the big problems that companies have when they operate globally is that they actually need to open up an account in all these different countries where they might have employees. It becomes really complicated to set up all your financial systems on a country by country basis,” he added. “Now, if you use Brex, you can actually operate as if you were a local company with a local card.”\\n\\nIn other words, companies using Brex that have employees who work in other countries are giving those workers the ability to use a corporate card freely in their home countries, while also giving the company the ability to pay the statements in local currency from the local bank.\\n\\n“It’s something that we’ve been trying to do for a while,” Dubugras added, noting that insurtech Lemonade is a customer. — Mary Ann\\n\\nOther weekly news\\n\\nChristine, Mary Ann and Natasha Mascarenhas teamed up to write about the collapse of First Republic Bank, speaking with tech founders and investors who had money in the bank about what happens next. We also spoke with an FRB competitor about what all of these startup bank collapses mean for business. More here.\\n\\nReports Carly Page: “Hackers have published a trove of sensitive data stolen from payment software company AvidXchange after the company fell victim to ransomware for the second time this year. AvidXchange provides cloud-based software that helps organizations automate invoice processing and payment management processes. A ransomware group called RansomHouse claimed responsibility for the recent cyberattack on AvidXchange.” More here.\\n\\nChristine wrote about the launch of former Bolt CEO Ryan Breslow’s new company, Love, which is a wellness marketplace that features an initial 200 curated products, like supplements, health testing kits and essential oils, among such categories as reducing stress and gut health. All of the products on the site pass a set of compliance processes and reviews developed in partnership with clinical trials company Radicle Science, which Breslow said is unique to the company. More here.\\n\\nBritish neobank Revolut launched in Brazil, its first country in Latin America, offering customers a global bank account and crypto investments, Silicon Republic reported. The company already had a presence in the country after hiring Glauber Mota as the CEO of its Brazil business in March 2022. Alex Wilhelm and Anna Heim reported in April that Revolut “saw its valuation decline by some 46% in the eyes of one of its backers.” More here.\\n\\nTage Kene-Okafor reported on Fingo, a YC-backed Kenyan fintech, which launched a neobank — the first of its kind in the East African country, according to the company — in collaboration with Pan-African financial institution Ecobank Kenya. “It’s taken a while for Fingo to get here since CEO Kiiru Muhoya and his co-founders James da Costa, Ian Njuguna and Gitari Tirima founded the Kenyan outfit in January 2021 to provide financial services that appeal to a fast-growing African youthful population that happens to be the youngest globally but the most financially marginalized. After a $200,000 pre-seed round, Fingo got into YC S21 and raised $4 million in seed funding toward the end of that year.” More here.\\n\\nManish Singh reported that Paytm, India’s leading mobile payments firm, reported a 13.2% surge in revenue to $285.7 million in the quarter ending March and pared its loss by 57% to $20.5 million “in a sharp turnaround for the company that is increasingly trying to become profitable following a tremulous year and a half after its public debut.” More here.\\n\\nMore headlines\\n\\nApple and fintechs like Robinhood chase yield-hungry depositors as Fed rate hikes continue. Similarly, Arta Finance, a company providing access to alternative assets, debuted the Harvest Treasuries AI-Managed Portfolio, which offers a 4.62% APY (annual percentage yield), and Wealthfront’s cash account now offers 4.55% for all clients and 5.05% APY for clients who refer a friend.\\n\\nFintech projected to become a $1.5 trillion industry by 2030, according to a new report from Boston Consulting Group and QED Investors\\n\\nOpendoor tech earnings beat by $0.77, revenue topped estimates\\n\\nEveree joins Visa’s Fintech Fast Track Program with launch of Everee Visa® pay card\\n\\nFunding and M&A\\n\\nSeen on TechCrunch\\n\\nAfrican payment service provider Nomba raises $30M, backed by Base10 Partners and Shopify\\n\\nBend is taking on Brex and Ramp with a green twist and a $2.5M seed round\\n\\nAnd elsewhere\\n\\nDigital wallet for insurance Marble bags $4.2M. Speaking about the raise to TechCrunch, CEO Stuart Winchester said via email, “American households are under a lot of financial strain right now, and insurance expenses are no small part of that. We will continue to put out features that make it easier to not only save money and maximize value, but also to reduce the mental load of managing multiple insurance policies. We expect to see the insurance industry in general adopt more of the consumer friendly features that we’ve helped pioneer.”\\n\\nInsurtech startup Novidea raises $50 million Series C\\n\\nExclusive: Former Venmo COO raises $20M for Vera Equity\\n\\nTarabut Gateway raises $32 million to expand Saudi open banking\\n\\nMusic financing startup Duetti raises $32 million to buy old songs\\n\\nBilling platform Inbox Health raises $22.5M and more digital health fundings\\n\\nGoogle’s VC firm just led a $12 million Series A investment in Range, a startup that’s training AI to give financial advice\\n\\nOpenEnvoy raises $15 million to grow AP automation solution\\n\\nMiami-based startup Kiddie Kredit raises $1.4M with support from Dwyane Wade and Baron Davis\\n\\nBlack-owned tech firm Greenwood acquires digital banking rival. TechCrunch covered Greenwood’s last raise in March of 2021 here.\\n\\nJoin us at TechCrunch Disrupt 2023 in San Francisco this September as we explore the impact of fintech on our world today. New this year, we will have a whole day dedicated to all things fintech featuring some of today’s leading fintech figures. Save up to $800 when you buy your pass now through May 15, and save 15% on top of that with promo code INTERCHANGE. Learn more.\\n\\nWe are done for this week and it’s a good thing because we are also TIRED! See you next week — same time, same place. Until then, take good care! xoxo, Mary Ann and Christine'"
      ]
     },
     "execution_count": 8,
     "metadata": {},
     "output_type": "execute_result"
    }
   ],
   "source": [
    "document[0].page_content"
   ]
  },
  {
   "cell_type": "code",
   "execution_count": 9,
   "metadata": {},
   "outputs": [],
   "source": [
    "from langchain.text_splitter import  RecursiveCharacterTextSplitter\n",
    "text_splitter=RecursiveCharacterTextSplitter(chunk_size=1000,chunk_overlap=200)\n",
    "text=text_splitter.split_documents(document)\n",
    "#chunk size means the no of characters and the chunk overalpap means  the prev chunk size we will take"
   ]
  },
  {
   "cell_type": "code",
   "execution_count": 10,
   "metadata": {},
   "outputs": [
    {
     "data": {
      "text/plain": [
       "'Welcome to The Interchange! If you received this in your inbox, thank you for signing up and your vote of confidence. If you’re reading this as a post on our site, sign up here so you can receive it directly in the future. Every week, we’ll take a look at the hottest fintech news of the previous week. This will include everything from funding rounds to trends to an analysis of a particular space to hot takes on a particular company or phenomenon. There’s a lot of fintech news out there and it’s our job to stay on top of it — and make sense of it — so you can stay in the know. — Mary Ann and Christine\\n\\nBusy, busy, busy\\n\\nIt was a busy week in startup and venture lands, and the fintech space was no exception.'"
      ]
     },
     "execution_count": 10,
     "metadata": {},
     "output_type": "execute_result"
    }
   ],
   "source": [
    "text[0].page_content"
   ]
  },
  {
   "cell_type": "code",
   "execution_count": 11,
   "metadata": {},
   "outputs": [
    {
     "data": {
      "text/plain": [
       "233"
      ]
     },
     "execution_count": 11,
     "metadata": {},
     "output_type": "execute_result"
    }
   ],
   "source": [
    "len(text)"
   ]
  },
  {
   "cell_type": "code",
   "execution_count": 12,
   "metadata": {},
   "outputs": [],
   "source": [
    "#CREATING DB\n",
    "persist_directory='db'"
   ]
  },
  {
   "cell_type": "code",
   "execution_count": 13,
   "metadata": {},
   "outputs": [
    {
     "name": "stderr",
     "output_type": "stream",
     "text": [
      "/home/seaflux/VectorDB/.venv/lib/python3.11/site-packages/langchain_core/_api/deprecation.py:119: LangChainDeprecationWarning: The class `OpenAIEmbeddings` was deprecated in LangChain 0.0.9 and will be removed in 0.3.0. An updated version of the class exists in the langchain-openai package and should be used instead. To use it run `pip install -U langchain-openai` and import as `from langchain_openai import OpenAIEmbeddings`.\n",
      "  warn_deprecated(\n"
     ]
    }
   ],
   "source": [
    "from langchain import embeddings\n",
    "embeddings=OpenAIEmbeddings()"
   ]
  },
  {
   "cell_type": "code",
   "execution_count": 14,
   "metadata": {},
   "outputs": [],
   "source": [
    "vectordb=Chroma.from_documents(documents=text,embedding=embeddings,persist_directory=persist_directory)"
   ]
  },
  {
   "cell_type": "code",
   "execution_count": 15,
   "metadata": {},
   "outputs": [
    {
     "data": {
      "text/plain": [
       "<langchain_community.vectorstores.chroma.Chroma at 0x7f9d4b78c610>"
      ]
     },
     "execution_count": 15,
     "metadata": {},
     "output_type": "execute_result"
    }
   ],
   "source": [
    "vectordb"
   ]
  },
  {
   "cell_type": "code",
   "execution_count": 16,
   "metadata": {},
   "outputs": [
    {
     "name": "stderr",
     "output_type": "stream",
     "text": [
      "/home/seaflux/VectorDB/.venv/lib/python3.11/site-packages/langchain_core/_api/deprecation.py:119: LangChainDeprecationWarning: Since Chroma 0.4.x the manual persistence method is no longer supported as docs are automatically persisted.\n",
      "  warn_deprecated(\n"
     ]
    }
   ],
   "source": [
    "vectordb.persist()"
   ]
  },
  {
   "cell_type": "code",
   "execution_count": 17,
   "metadata": {},
   "outputs": [],
   "source": [
    "vectordb=None"
   ]
  },
  {
   "cell_type": "code",
   "execution_count": 18,
   "metadata": {},
   "outputs": [],
   "source": [
    "vectordb=Chroma.from_documents(documents=text,embedding=embeddings,persist_directory=persist_directory)"
   ]
  },
  {
   "cell_type": "code",
   "execution_count": 19,
   "metadata": {},
   "outputs": [],
   "source": [
    "#Make a retriver\n",
    "retiriever=vectordb.as_retriever()"
   ]
  },
  {
   "cell_type": "code",
   "execution_count": 20,
   "metadata": {},
   "outputs": [
    {
     "data": {
      "text/plain": [
       "VectorStoreRetriever(tags=['Chroma', 'OpenAIEmbeddings'], vectorstore=<langchain_community.vectorstores.chroma.Chroma object at 0x7f9d2f128410>)"
      ]
     },
     "execution_count": 20,
     "metadata": {},
     "output_type": "execute_result"
    }
   ],
   "source": [
    "retiriever"
   ]
  },
  {
   "cell_type": "code",
   "execution_count": 21,
   "metadata": {},
   "outputs": [
    {
     "name": "stderr",
     "output_type": "stream",
     "text": [
      "/home/seaflux/VectorDB/.venv/lib/python3.11/site-packages/langchain_core/_api/deprecation.py:119: LangChainDeprecationWarning: The method `BaseRetriever.get_relevant_documents` was deprecated in langchain-core 0.1.46 and will be removed in 0.3.0. Use invoke instead.\n",
      "  warn_deprecated(\n"
     ]
    }
   ],
   "source": [
    "docs=retiriever.get_relevant_documents('what is ai')"
   ]
  },
  {
   "cell_type": "code",
   "execution_count": 22,
   "metadata": {},
   "outputs": [
    {
     "data": {
      "text/plain": [
       "[Document(page_content='AI startup Hugging Face and ServiceNow Research, ServiceNow’s R&D division, have released StarCoder, a free alternative to code-generating AI systems along the lines of GitHub’s Copilot.\\n\\nCode-generating systems like DeepMind’s AlphaCode; Amazon’s CodeWhisperer; and OpenAI’s Codex, which powers Copilot, provide a tantalizing glimpse at what’s possible with AI within the realm of computer programming. Assuming the ethical, technical and legal issues are someday ironed out (and AI-powered coding tools don’t cause more bugs and security exploits than they solve), they could cut development costs substantially while allowing coders to focus on more creative tasks.', metadata={'source': 'new_articles/05-04-hugging-face-and-servicenow-release-a-free-code-generating-model.txt'}),\n",
       " Document(page_content='AI startup Hugging Face and ServiceNow Research, ServiceNow’s R&D division, have released StarCoder, a free alternative to code-generating AI systems along the lines of GitHub’s Copilot.\\n\\nCode-generating systems like DeepMind’s AlphaCode; Amazon’s CodeWhisperer; and OpenAI’s Codex, which powers Copilot, provide a tantalizing glimpse at what’s possible with AI within the realm of computer programming. Assuming the ethical, technical and legal issues are someday ironed out (and AI-powered coding tools don’t cause more bugs and security exploits than they solve), they could cut development costs substantially while allowing coders to focus on more creative tasks.', metadata={'source': 'new_articles/05-04-hugging-face-and-servicenow-release-a-free-code-generating-model.txt'}),\n",
       " Document(page_content='AI\\n\\nSlack introduced SlackGPT, its own generative AI built on Slack’s platform which developers can use to create AI-driven experiences.\\n\\nwhich developers can use to create AI-driven experiences. Microsoft launched its Bing chatbot to all users globally, meaning there’s no more waitlist to get started. It’s also adding more image- and graphic-centric answers in Bing Chat, including by creating graphs and charts and generating images from text prompts. It will also allow users to export their Bing Chat histories. And it will embrace multimodality, meaning it can understand queries with images and text combined. Bing now sees more than 100 million daily active users and says visitors have engaged in over half a billion chats.', metadata={'source': 'new_articles/05-06-this-week-in-apps-apple-and-google-team-up-on-trackers-google-i-o-preview-apps-hit-newfronts.txt'}),\n",
       " Document(page_content='AI\\n\\nSlack introduced SlackGPT, its own generative AI built on Slack’s platform which developers can use to create AI-driven experiences.\\n\\nwhich developers can use to create AI-driven experiences. Microsoft launched its Bing chatbot to all users globally, meaning there’s no more waitlist to get started. It’s also adding more image- and graphic-centric answers in Bing Chat, including by creating graphs and charts and generating images from text prompts. It will also allow users to export their Bing Chat histories. And it will embrace multimodality, meaning it can understand queries with images and text combined. Bing now sees more than 100 million daily active users and says visitors have engaged in over half a billion chats.', metadata={'source': 'new_articles/05-06-this-week-in-apps-apple-and-google-team-up-on-trackers-google-i-o-preview-apps-hit-newfronts.txt'})]"
      ]
     },
     "execution_count": 22,
     "metadata": {},
     "output_type": "execute_result"
    }
   ],
   "source": [
    "docs"
   ]
  },
  {
   "cell_type": "code",
   "execution_count": 23,
   "metadata": {},
   "outputs": [],
   "source": [
    "#Make a retriver\n",
    "retiriever2=vectordb.as_retriever(search_kwargs={'k':2})"
   ]
  },
  {
   "cell_type": "code",
   "execution_count": 24,
   "metadata": {},
   "outputs": [
    {
     "data": {
      "text/plain": [
       "[Document(page_content='AI startup Hugging Face and ServiceNow Research, ServiceNow’s R&D division, have released StarCoder, a free alternative to code-generating AI systems along the lines of GitHub’s Copilot.\\n\\nCode-generating systems like DeepMind’s AlphaCode; Amazon’s CodeWhisperer; and OpenAI’s Codex, which powers Copilot, provide a tantalizing glimpse at what’s possible with AI within the realm of computer programming. Assuming the ethical, technical and legal issues are someday ironed out (and AI-powered coding tools don’t cause more bugs and security exploits than they solve), they could cut development costs substantially while allowing coders to focus on more creative tasks.', metadata={'source': 'new_articles/05-04-hugging-face-and-servicenow-release-a-free-code-generating-model.txt'}),\n",
       " Document(page_content='AI startup Hugging Face and ServiceNow Research, ServiceNow’s R&D division, have released StarCoder, a free alternative to code-generating AI systems along the lines of GitHub’s Copilot.\\n\\nCode-generating systems like DeepMind’s AlphaCode; Amazon’s CodeWhisperer; and OpenAI’s Codex, which powers Copilot, provide a tantalizing glimpse at what’s possible with AI within the realm of computer programming. Assuming the ethical, technical and legal issues are someday ironed out (and AI-powered coding tools don’t cause more bugs and security exploits than they solve), they could cut development costs substantially while allowing coders to focus on more creative tasks.', metadata={'source': 'new_articles/05-04-hugging-face-and-servicenow-release-a-free-code-generating-model.txt'})]"
      ]
     },
     "execution_count": 24,
     "metadata": {},
     "output_type": "execute_result"
    }
   ],
   "source": [
    "retiriever2.get_relevant_documents('what is ai')"
   ]
  },
  {
   "cell_type": "code",
   "execution_count": 25,
   "metadata": {},
   "outputs": [
    {
     "name": "stderr",
     "output_type": "stream",
     "text": [
      "/home/seaflux/VectorDB/.venv/lib/python3.11/site-packages/langchain_core/_api/deprecation.py:119: LangChainDeprecationWarning: The class `OpenAI` was deprecated in LangChain 0.0.10 and will be removed in 0.3.0. An updated version of the class exists in the langchain-openai package and should be used instead. To use it run `pip install -U langchain-openai` and import as `from langchain_openai import OpenAI`.\n",
      "  warn_deprecated(\n"
     ]
    }
   ],
   "source": [
    "#Make a chain\n",
    "from langchain.chains import RetrievalQA\n",
    "# create the chain to answer questions\n",
    "qa_chain = RetrievalQA.from_chain_type(llm=OpenAI(),\n",
    "                                  chain_type=\"stuff\",\n",
    "                                  retriever=retiriever,\n",
    "                                  return_source_documents=True)"
   ]
  },
  {
   "cell_type": "code",
   "execution_count": 26,
   "metadata": {},
   "outputs": [],
   "source": [
    "## Cite sources\n",
    "def process_llm_response(llm_response):\n",
    "    print(llm_response['result'])\n",
    "    print('\\n\\nSources:')\n",
    "    for source in llm_response[\"source_documents\"]:\n",
    "        print(source.metadata['source'])"
   ]
  },
  {
   "cell_type": "code",
   "execution_count": 27,
   "metadata": {},
   "outputs": [],
   "source": [
    "# full example\n",
    "query = \"How much money did Microsoft raise?\""
   ]
  },
  {
   "cell_type": "code",
   "execution_count": 28,
   "metadata": {},
   "outputs": [
    {
     "name": "stderr",
     "output_type": "stream",
     "text": [
      "/home/seaflux/VectorDB/.venv/lib/python3.11/site-packages/langchain_core/_api/deprecation.py:119: LangChainDeprecationWarning: The method `Chain.__call__` was deprecated in langchain 0.1.0 and will be removed in 0.3.0. Use invoke instead.\n",
      "  warn_deprecated(\n"
     ]
    }
   ],
   "source": [
    "llm_response = qa_chain(query)"
   ]
  },
  {
   "cell_type": "code",
   "execution_count": 29,
   "metadata": {},
   "outputs": [
    {
     "data": {
      "text/plain": [
       "{'query': 'How much money did Microsoft raise?',\n",
       " 'result': ' Microsoft did not raise any money in this context. Other companies and venture capital firms raised money, but there is no mention of Microsoft raising money in this context.',\n",
       " 'source_documents': [Document(page_content='April 28, 2023\\n\\nVC firms including Sequoia Capital, Andreessen Horowitz, Thrive and K2 Global are picking up new shares, according to documents seen by TechCrunch. A source tells us Founders Fund is also investing. Altogether the VCs have put in just over $300 million at a valuation of $27 billion to $29 billion. This is separate to a big investment from Microsoft announced earlier this year, a person familiar with the development told TechCrunch, which closed in January. The size of Microsoft’s investment is believed to be around $10 billion, a figure we confirmed with our source.\\n\\nApril 25, 2023\\n\\nCalled ChatGPT Business, OpenAI describes the forthcoming offering as “for professionals who need more control over their data as well as enterprises seeking to manage their end users.”', metadata={'source': 'new_articles/05-03-chatgpt-everything-you-need-to-know-about-the-ai-powered-chatbot.txt'}),\n",
       "  Document(page_content='April 28, 2023\\n\\nVC firms including Sequoia Capital, Andreessen Horowitz, Thrive and K2 Global are picking up new shares, according to documents seen by TechCrunch. A source tells us Founders Fund is also investing. Altogether the VCs have put in just over $300 million at a valuation of $27 billion to $29 billion. This is separate to a big investment from Microsoft announced earlier this year, a person familiar with the development told TechCrunch, which closed in January. The size of Microsoft’s investment is believed to be around $10 billion, a figure we confirmed with our source.\\n\\nApril 25, 2023\\n\\nCalled ChatGPT Business, OpenAI describes the forthcoming offering as “for professionals who need more control over their data as well as enterprises seeking to manage their end users.”', metadata={'source': 'new_articles/05-03-chatgpt-everything-you-need-to-know-about-the-ai-powered-chatbot.txt'}),\n",
       "  Document(page_content='Partners of 3one4 Capital, a venture capital firm in India, recently went on a road show to raise a new fund. Within two and a half months, at the height of the worsening global economy, they had secured $200 million. It’s the fourth marquee fund for the Bengaluru-headquartered fund, whose portfolio includes four unicorn startups.\\n\\nThe fund, sixth overall for 3one4 Capital, was oversubscribed to $250 million but the firm is accepting only $200 million to keep itself lean and disciplined, said Pranav Pai, co-founder and partner at 3one4 Capital. The firm’s decision to limit the fund size is emblematic of its strategic choices, which have set it apart from other Indian venture firms.', metadata={'source': 'new_articles/05-07-3one4-capital-driven-by-contrarian-bets-raises-200-million-new-fund.txt'}),\n",
       "  Document(page_content='Partners of 3one4 Capital, a venture capital firm in India, recently went on a road show to raise a new fund. Within two and a half months, at the height of the worsening global economy, they had secured $200 million. It’s the fourth marquee fund for the Bengaluru-headquartered fund, whose portfolio includes four unicorn startups.\\n\\nThe fund, sixth overall for 3one4 Capital, was oversubscribed to $250 million but the firm is accepting only $200 million to keep itself lean and disciplined, said Pranav Pai, co-founder and partner at 3one4 Capital. The firm’s decision to limit the fund size is emblematic of its strategic choices, which have set it apart from other Indian venture firms.', metadata={'source': 'new_articles/05-07-3one4-capital-driven-by-contrarian-bets-raises-200-million-new-fund.txt'})]}"
      ]
     },
     "execution_count": 29,
     "metadata": {},
     "output_type": "execute_result"
    }
   ],
   "source": [
    "llm_response"
   ]
  },
  {
   "cell_type": "code",
   "execution_count": 30,
   "metadata": {},
   "outputs": [
    {
     "name": "stdout",
     "output_type": "stream",
     "text": [
      " Microsoft did not raise any money in this context. Other companies and venture capital firms raised money, but there is no mention of Microsoft raising money in this context.\n",
      "\n",
      "\n",
      "Sources:\n",
      "new_articles/05-03-chatgpt-everything-you-need-to-know-about-the-ai-powered-chatbot.txt\n",
      "new_articles/05-03-chatgpt-everything-you-need-to-know-about-the-ai-powered-chatbot.txt\n",
      "new_articles/05-07-3one4-capital-driven-by-contrarian-bets-raises-200-million-new-fund.txt\n",
      "new_articles/05-07-3one4-capital-driven-by-contrarian-bets-raises-200-million-new-fund.txt\n"
     ]
    }
   ],
   "source": [
    "process_llm_response(llm_response)"
   ]
  },
  {
   "cell_type": "code",
   "execution_count": 31,
   "metadata": {},
   "outputs": [
    {
     "name": "stdout",
     "output_type": "stream",
     "text": [
      "updating: db/ (stored 0%)\n",
      "updating: db/chroma-embeddings.parquet (deflated 29%)\n",
      "updating: db/index/ (stored 0%)\n",
      "updating: db/chroma-collections.parquet (deflated 50%)\n",
      "  adding: db/index/id_to_uuid_5ee6ba7b-d7c7-46b4-bdd3-4cf417bd1fd7.pkl (deflated 35%)\n",
      "  adding: db/index/index_metadata_5ee6ba7b-d7c7-46b4-bdd3-4cf417bd1fd7.pkl (deflated 14%)\n",
      "  adding: db/index/index_5ee6ba7b-d7c7-46b4-bdd3-4cf417bd1fd7.bin (deflated 17%)\n",
      "  adding: db/index/uuid_to_id_5ee6ba7b-d7c7-46b4-bdd3-4cf417bd1fd7.pkl (deflated 39%)\n"
     ]
    }
   ],
   "source": [
    "!zip -r db.zip ./db"
   ]
  },
  {
   "cell_type": "code",
   "execution_count": 32,
   "metadata": {},
   "outputs": [],
   "source": [
    "# To cleanup, you can delete the collection\n",
    "vectordb.delete_collection()\n",
    "vectordb.persist()"
   ]
  },
  {
   "cell_type": "code",
   "execution_count": 33,
   "metadata": {},
   "outputs": [],
   "source": [
    "\n",
    "# delete the directory\n",
    "!rm -rf db/"
   ]
  },
  {
   "cell_type": "code",
   "execution_count": null,
   "metadata": {},
   "outputs": [],
   "source": []
  }
 ],
 "metadata": {
  "kernelspec": {
   "display_name": ".venv",
   "language": "python",
   "name": "python3"
  },
  "language_info": {
   "codemirror_mode": {
    "name": "ipython",
    "version": 3
   },
   "file_extension": ".py",
   "mimetype": "text/x-python",
   "name": "python",
   "nbconvert_exporter": "python",
   "pygments_lexer": "ipython3",
   "version": "3.11.0"
  }
 },
 "nbformat": 4,
 "nbformat_minor": 2
}
